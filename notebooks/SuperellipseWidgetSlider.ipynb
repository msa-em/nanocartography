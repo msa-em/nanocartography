{
 "cells": [
  {
   "cell_type": "code",
   "execution_count": 2,
   "id": "5b7c0591",
   "metadata": {},
   "outputs": [
    {
     "data": {
      "application/vnd.jupyter.widget-view+json": {
       "model_id": "966a16b9bd274684b563fd0577a00bde",
       "version_major": 2,
       "version_minor": 0
      },
      "text/plain": [
       "interactive(children=(FloatSlider(value=3.3, description='r', max=10.0, min=1.0), IntSlider(value=32, descript…"
      ]
     },
     "metadata": {},
     "output_type": "display_data"
    },
    {
     "data": {
      "text/plain": [
       "<function __main__.make_plot(r, a, b)>"
      ]
     },
     "execution_count": 2,
     "metadata": {},
     "output_type": "execute_result"
    }
   ],
   "source": [
    "#| label: app:superellipse\n",
    "\n",
    "from IPython.display import HTML\n",
    "import ipywidgets as widgets\n",
    "from ipywidgets import interact, interactive, fixed, interact_manual\n",
    "  \n",
    "# importing required libraries\n",
    "import numpy as np  \n",
    "import matplotlib.pyplot as plt\n",
    "\n",
    "# for creating a responsive plot\n",
    "%matplotlib widget\n",
    "\n",
    "\n",
    "def make_plot(r, a, b):\n",
    "    theta = np.linspace(0, 2*np.pi, 1000)\n",
    "    #print(theta)\n",
    "    pos_alpha = a*np.power(np.abs(np.cos(theta)), (2/r))\n",
    "    pos_beta = b*np.power(np.abs(np.sin(theta)), (2/r))\n",
    "    #print(theta)\n",
    "    #print(pos_alpha)\n",
    "\n",
    "    #Combine all the positive and negative combinations together to form one big list for plotting:\n",
    "    all_alpha = np.concatenate((pos_alpha, pos_alpha, -pos_alpha, -pos_alpha))\n",
    "    all_beta = np.concatenate((pos_beta, -pos_beta, pos_beta, -pos_beta))\n",
    "\n",
    "    #print(all_alpha)\n",
    "\n",
    "    #fig = plt.figure()\n",
    "    #ax = plt.gca()\n",
    "    plt.clf()\n",
    "    \n",
    "    plt.xlabel('Alpha')\n",
    "    plt.ylabel('Beta')\n",
    "    plt.xlim([-45, 45])\n",
    "    plt.ylim([-45, 45])\n",
    "    plt.grid()\n",
    "    \n",
    "    plt.scatter(all_alpha, all_beta)\n",
    "    #plt.axis('square')\n",
    "    plt.show()\n",
    "    \n",
    "interact(make_plot, r =widgets.FloatSlider(min=1, max=10, value=3.3), \\\n",
    "         a = widgets.IntSlider(min=1, max=45, value=32), \\\n",
    "         b = widgets.IntSlider(min=1, max=45, value=36))"
   ]
  }
 ],
 "metadata": {
  "kernelspec": {
   "display_name": "Python 3 (ipykernel)",
   "language": "python",
   "name": "python3"
  },
  "language_info": {
   "codemirror_mode": {
    "name": "ipython",
    "version": 3
   },
   "file_extension": ".py",
   "mimetype": "text/x-python",
   "name": "python",
   "nbconvert_exporter": "python",
   "pygments_lexer": "ipython3",
   "version": "3.11.4"
  }
 },
 "nbformat": 4,
 "nbformat_minor": 5
}
